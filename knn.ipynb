{
 "cells": [
  {
   "cell_type": "markdown",
   "metadata": {},
   "source": [
    "<h1 style=\"text-align:center\">Algorithme des $k$ plus proches voisins</h1>"
   ]
  },
  {
   "cell_type": "markdown",
   "metadata": {},
   "source": [
    "<h2>Introduction</h2>\n",
    "L’algorithme des $k$ plus proches voisins ($k$ nearest neightboors : knn) appartient à la famille des algorithmes d'apprentissage automatique (machine learning). L'idée de ces algorithmes est d'utiliser un grand nombre de données afin d'&laquo;apprendre&raquo; à la machine à résoudre un certain type de problème. Cette idée d'apprentissage automatique ne date pas d'hier, puisque le terme de machine learning a été utilisé pour la première fois par l'informaticien américain Arthur Samuel en 1959. Les algorithmes d'apprentissage automatique ont connu un fort regain d'intérêt au début des années 2000 notamment grâce à la quantité de données disponibles sur internet (on parle de *big data*). \n",
    "\n",
    "De nombreuses sociétés (exemple les GAFAM) utilisent les données concernant leurs utilisateurs afin de \"nourrir\" des algorithmes de machine learning qui permettront à ces sociétés d'en savoir toujours plus sur nous et ainsi de mieux cerner nos \"besoins\" en termes de consommation.\n",
    "\n",
    "D'un point de vue théorique, l'algorithme des $k$ plus proches voisins est un algorithme d'apprentissage supervisé : à partir d'un ensemble E de données labellisées, il sera possible de classer (déterminer le label) d'une nouvelle donnée (donnée n'appartenant pas à E)."
   ]
  },
  {
   "cell_type": "markdown",
   "metadata": {},
   "source": [
    "<h2>Présentation de l'exemple</h2>\n",
    "L'exemple classique que nous allons traiter est celui des données \"iris de Fisher\". En 1936, Edgar Anderson a collecté des données sur 3 espèces d'iris : \"iris setosa\", \"iris virginica\" et \"iris versicolor\".\n",
    "\n",
    "<table>\n",
    "  <tr>\n",
    "    <td style=\"text-align:center\"><img alt=\"iris_setosa\" src=\"iris_setosa.jpeg\" width=200px height=200px></td>\n",
    "    <td style=\"text-align:center\"><img alt=\"iris_versicolor\" src=\"iris_versicolor.jpeg\" width=200px height=200px></td>\n",
    "    <td style=\"text-align:center\"><img alt=\"iris_virginica\" src=\"iris_virginica.jpeg\" width=200px height=200px></td>\n",
    "  </tr>\n",
    "  <tr>\n",
    "    <td style=\"text-align:center\">iris_setosa</td>\n",
    "    <td style=\"text-align:center\">iris_versicolor</td>\n",
    "    <td style=\"text-align:center\">iris_virginica</td>\n",
    "  </tr>\n",
    "<table>\n",
    "\n",
    "Pour chaque iris étudié, Anderson a mesuré (en cm) :\n",
    "   * la largeur des sépales\n",
    "   * la longueur des sépales\n",
    "   * la largeur des pétales\n",
    "   * la longueur des pétales\n",
    "\n",
    "Par souci de simplification, nous nous intéresserons uniquement à la largeur et à la longueur des pétales.\n",
    "\n",
    "Pour chaque iris mesuré, Anderson a aussi noté l'espèce (\"iris setosa\", \"iris versicolor\" ou \"iris virginica\")\n",
    "\n",
    "Vous trouverez 50 de ces mesures dans le fichier <a href=\"iris.csv\">iris.csv</a>\n",
    "\n",
    "En résumé, vous trouverez dans ce fichier :\n",
    "   * la longueur des pétales\n",
    "   * la largeur des pétales\n",
    "   * l'espèce de l'iris (au lieu d'utiliser les noms des espèces, on utilisera des chiffres : 0 pour \"iris setosa\", 1 pour \"iris versicolor\" et 2 pour \"iris virginica\")"
   ]
  },
  {
   "cell_type": "markdown",
   "metadata": {},
   "source": [
    ">Pour exécuter une cellule, placer le curseur dans la cellule et appuyer sur le bouton <button class=\"btn btn-default\" title=\"Run\"><i class=\"fa-step-forward fa\"></i><span class=\"toolbar-btn-label\">Run</span></button> en haut de l'écran ou sur les touches **`<Maj+Entree>`**.\n",
    "\n",
    "><h3 class='fa fa-cogs' style=\"color: darkorange\"> A faire vous-même </h3>\n",
    ">\n",
    ">Exécuter la cellule ci dessous pour avoir un aperçu du contenu du fichier <a href=\"iris.csv\">iris.csv</a>. Les plus attentifs d'entre vous doivent reconnaître une instruction bash."
   ]
  },
  {
   "cell_type": "code",
   "execution_count": null,
   "metadata": {},
   "outputs": [],
   "source": [
    "cat iris.csv"
   ]
  },
  {
   "cell_type": "markdown",
   "metadata": {},
   "source": [
    "<h2>Visualisation des données</h2>\n",
    "Avant d'entrer dans le vif du sujet (algorithme knn), nous allons chercher à obtenir une représentation graphique des données contenues dans le fichier <a href=\"iris.csv\">iris.csv</a>."
   ]
  },
  {
   "cell_type": "markdown",
   "metadata": {},
   "source": [
    "><h3 class='fa fa-cogs' style=\"color: darkorange\"> A faire vous-même </h3>\n",
    ">\n",
    ">Étudier puis tester (en l'exécutant comme vu plus haut) le code suivant :"
   ]
  },
  {
   "cell_type": "code",
   "execution_count": null,
   "metadata": {},
   "outputs": [],
   "source": [
    "# %matplotlib notebook\n",
    "%matplotlib inline\n",
    "import matplotlib.pyplot as plt\n",
    "\n",
    "lst_long = [[], [], []]\n",
    "lst_larg = [[], [], []]\n",
    "with open(\"iris.csv\") as fic:\n",
    "    fic.readline()  # on ignore la première ligne contenant les titres\n",
    "    for ligne in fic:\n",
    "        long, larg, esp = ligne.split(',')\n",
    "        esp = int(esp)\n",
    "        lst_long[esp].append(float(long))\n",
    "        lst_larg[esp].append(float(larg))\n",
    "plt.figure(1)\n",
    "plt.xlabel(\"longueur\")\n",
    "plt.ylabel(\"largeur\")\n",
    "plt.title(\"Classification des iris\")\n",
    "plt.scatter(lst_long[0], lst_larg[0], color='g', label='setosa')\n",
    "plt.scatter(lst_long[1], lst_larg[1], color='r', label='versicolor')\n",
    "plt.scatter(lst_long[2], lst_larg[2], color='b', label='virginica')\n",
    "plt.legend()\n",
    "#######################################\n",
    "## partie à compléter dans la suite : #\n",
    "#######################################\n",
    "\n",
    "\n",
    "#######################################\n",
    "plt.show()"
   ]
  },
  {
   "cell_type": "markdown",
   "metadata": {},
   "source": [
    "On remarque qu'on a 3 \"nuages\" de points plus ou moins regroupés par espèce (même si les \"iris versicolor\" et les \"iris virginica\" se mélangent un peu)."
   ]
  },
  {
   "cell_type": "markdown",
   "metadata": {},
   "source": [
    "<h2>La problématique</h2>\n",
    "\n",
    "Imaginez maintenant qu'au cours d'une promenade vous trouviez un iris. N'étant pas un spécialiste, il ne vous est pas vraiment possible de déterminer l'espèce. En revanche, vous êtes capables de mesurer la longueur et la largeur des pétales de cet iris. Imaginons qu'un pétale fasse 0,5 cm de large et 2 cm de long.\n",
    "><h3 class='fa fa-cogs' style=\"color: darkorange\"> A faire vous-même </h3>\n",
    ">\n",
    "> Compléter le programme précédent en ajoutant la ligne\n",
    "```python\n",
    "plt.scatter(2, 0.5, color='k')\n",
    "```\n",
    ">au programme ci-dessus pour ajouter cette nouvelle donnée sur  graphique. N'oubliez pas de réexucuter la cellule. \n",
    "\n",
    ">Quelle est à votre avis l'espèce de cet iris ?"
   ]
  },
  {
   "cell_type": "markdown",
   "metadata": {},
   "source": [
    "Supposons maintenant que l'iris trouvée a des pétales de 2,5 cm de long et 0,75 cm de large. \n",
    "\n",
    "><h3 class='fa fa-cogs' style=\"color: darkorange\"> A faire vous-même </h3>\n",
    ">\n",
    "> Modifier le programme précédent pour visualiser ce cas. L'espèce paraît-elle aussi évidente ?"
   ]
  },
  {
   "cell_type": "code",
   "execution_count": null,
   "metadata": {},
   "outputs": [],
   "source": []
  },
  {
   "cell_type": "code",
   "execution_count": null,
   "metadata": {},
   "outputs": [],
   "source": [
    "\n"
   ]
  },
  {
   "cell_type": "code",
   "execution_count": null,
   "metadata": {},
   "outputs": [],
   "source": []
  }
 ],
 "metadata": {
  "kernelspec": {
   "display_name": "Python 3",
   "language": "python",
   "name": "python3"
  },
  "language_info": {
   "codemirror_mode": {
    "name": "ipython",
    "version": 3
   },
   "file_extension": ".py",
   "mimetype": "text/x-python",
   "name": "python",
   "nbconvert_exporter": "python",
   "pygments_lexer": "ipython3",
   "version": "3.6.9"
  }
 },
 "nbformat": 4,
 "nbformat_minor": 2
}
