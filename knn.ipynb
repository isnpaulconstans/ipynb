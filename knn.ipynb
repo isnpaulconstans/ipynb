{
 "cells": [
  {
   "cell_type": "markdown",
   "metadata": {},
   "source": [
    "<h1 style=\"text-align:center\">Algorithme des $k$ plus proches voisins</h1>"
   ]
  },
  {
   "cell_type": "markdown",
   "metadata": {},
   "source": [
    "<h2>Introduction</h2>\n",
    "\n",
    "L’algorithme des $k$ plus proches voisins ($k$ nearest neightboors : knn) appartient à la famille des algorithmes d'apprentissage automatique (machine learning). L'idée de ces algorithmes est d'utiliser un grand nombre de données afin d'&laquo;apprendre&raquo; à la machine à résoudre un certain type de problème. Cette idée d'apprentissage automatique ne date pas d'hier, puisque le terme de machine learning a été utilisé pour la première fois par l'informaticien américain Arthur Samuel en 1959. Les algorithmes d'apprentissage automatique ont connu un fort regain d'intérêt au début des années 2000 notamment grâce à la quantité de données disponibles sur internet (on parle de *big data*). \n",
    "\n",
    "De nombreuses sociétés (exemple les GAFAM) utilisent les données concernant leurs utilisateurs afin de \"nourrir\" des algorithmes de machine learning qui permettront à ces sociétés d'en savoir toujours plus sur nous et ainsi de mieux cerner nos \"besoins\" en termes de consommation.\n",
    "\n",
    "D'un point de vue théorique, l'algorithme des $k$ plus proches voisins est un algorithme d'apprentissage supervisé : à partir d'un ensemble E de données labellisées, il sera possible de classer (déterminer le label) d'une nouvelle donnée (donnée n'appartenant pas à E)."
   ]
  },
  {
   "cell_type": "markdown",
   "metadata": {},
   "source": [
    "<h2>Présentation de l'exemple</h2>\n",
    "\n",
    "L'exemple classique que nous allons traiter est celui des données \"iris de Fisher\". En 1936, Edgar Anderson a collecté des données sur 3 espèces d'iris : \"iris setosa\", \"iris virginica\" et \"iris versicolor\".\n",
    "\n",
    "<table>\n",
    "  <tr>\n",
    "    <td style=\"text-align:center\"><img alt=\"iris_setosa\" src=\"iris_setosa.jpeg\" style=\"width:200px; height:200px\"></td>\n",
    "    <td style=\"text-align:center\"><img alt=\"iris_versicolor\" src=\"iris_versicolor.jpeg\" style=\"width:200px; height:200px\"></td>\n",
    "    <td style=\"text-align:center\"><img alt=\"iris_virginica\" src=\"iris_virginica.jpeg\" style=\"width:200px; height:200px\"></td>\n",
    "  </tr>\n",
    "  <tr>\n",
    "    <td style=\"text-align:center\">iris_setosa</td>\n",
    "    <td style=\"text-align:center\">iris_versicolor</td>\n",
    "    <td style=\"text-align:center\">iris_virginica</td>\n",
    "  </tr>\n",
    "<table>\n",
    "\n",
    "Pour chaque iris étudié, Anderson a mesuré (en cm) :\n",
    "   * la largeur des sépales\n",
    "   * la longueur des sépales\n",
    "   * la largeur des pétales\n",
    "   * la longueur des pétales\n",
    "\n",
    "Par souci de simplification, nous nous intéresserons uniquement à la largeur et à la longueur des pétales.\n",
    "\n",
    "Pour chaque iris mesuré, Anderson a aussi noté l'espèce (\"iris setosa\", \"iris versicolor\" ou \"iris virginica\")\n",
    "\n",
    "Vous trouverez 150 de ces mesures dans le fichier <a href=\"iris.csv\">iris.csv</a>\n",
    "\n",
    "En résumé, vous trouverez dans ce fichier :\n",
    "   * la longueur des pétales\n",
    "   * la largeur des pétales\n",
    "   * l'espèce de l'iris (au lieu d'utiliser les noms des espèces, on utilisera des chiffres : 0 pour \"iris setosa\", 1 pour \"iris versicolor\" et 2 pour \"iris virginica\")"
   ]
  },
  {
   "cell_type": "markdown",
   "metadata": {},
   "source": [
    ">Pour exécuter une cellule, placer le curseur dans la cellule et appuyer sur le bouton <button class=\"btn btn-default\" title=\"Run\"><i class=\"fa-step-forward fa\"></i><span class=\"toolbar-btn-label\">Run</span></button> en haut de l'écran ou sur les touches **`<Maj+Entree>`**.\n",
    "\n",
    "><h3 class='fa fa-cogs' style=\"color: darkorange\"> A faire vous-même </h3>\n",
    ">\n",
    ">Exécuter la cellule ci dessous pour avoir un aperçu du contenu du fichier <a href=\"iris.csv\">iris.csv</a>. Les plus attentifs d'entre vous doivent reconnaître une instruction bash."
   ]
  },
  {
   "cell_type": "code",
   "execution_count": null,
   "metadata": {},
   "outputs": [],
   "source": [
    "cat iris.csv"
   ]
  },
  {
   "cell_type": "markdown",
   "metadata": {},
   "source": [
    "<h2>Visualisation des données</h2>\n",
    "\n",
    "Avant d'entrer dans le vif du sujet (algorithme knn), nous allons chercher à obtenir une représentation graphique des données contenues dans le fichier <a href=\"iris.csv\">iris.csv</a>."
   ]
  },
  {
   "cell_type": "markdown",
   "metadata": {},
   "source": [
    "><h3 class='fa fa-cogs' style=\"color: darkorange\"> A faire vous-même </h3>\n",
    ">\n",
    ">Étudier puis tester (en l'exécutant comme vu plus haut) le code suivant :"
   ]
  },
  {
   "cell_type": "code",
   "execution_count": null,
   "metadata": {},
   "outputs": [],
   "source": [
    "#%matplotlib notebook\n",
    "%matplotlib inline\n",
    "import matplotlib.pyplot as plt\n",
    "import numpy as np\n",
    "\n",
    "def lecture(name):\n",
    "    \"\"\"lit le fichier csv dont le nom est passé en paramètre, en renvoie trois tableau contenant \n",
    "    respectivement la longueur et la largeur des pétales, et l'espèce de l'iris.\"\"\"\n",
    "    lst_long = []\n",
    "    lst_larg = []\n",
    "    lst_esp  = []\n",
    "    with open(name) as fic:\n",
    "        fic.readline()  # on ignore la première ligne contenant les titres\n",
    "        for ligne in fic:\n",
    "            long, larg, esp = ligne.split(',')\n",
    "            lst_long.append(float(long))\n",
    "            lst_larg.append(float(larg))\n",
    "            lst_esp.append(int(esp))\n",
    "\n",
    "    # conversion en tableaux numpy plus pratiques à manipuler\n",
    "    return np.array(lst_long), np.array(lst_larg), np.array(lst_esp)\n",
    "\n",
    "def affiche(long, larg, esp):\n",
    "    \"\"\"Représente graphiquement les données.\"\"\"\n",
    "    plt.xlabel(\"longueur\")\n",
    "    plt.ylabel(\"largeur\")\n",
    "    plt.title(\"Classification des iris\")\n",
    "    plt.scatter(long[esp==0], larg[esp==0], color='g', label='setosa')\n",
    "    plt.scatter(long[esp==1], larg[esp==1], color='r', label='versicolor')\n",
    "    plt.scatter(long[esp==2], larg[esp==2], color='b', label='virginica')\n",
    "    plt.legend(loc='best')\n",
    "\n",
    "long, larg, esp = lecture(\"iris.csv\")\n",
    "affiche(long, larg, esp)"
   ]
  },
  {
   "cell_type": "markdown",
   "metadata": {},
   "source": [
    "On remarque qu'on a 3 \"nuages\" de points plus ou moins regroupés par espèce (même si les \"iris versicolor\" et les \"iris virginica\" se mélangent un peu)."
   ]
  },
  {
   "cell_type": "markdown",
   "metadata": {},
   "source": [
    "<h2>La problématique</h2>\n",
    "\n",
    "Imaginez maintenant qu'au cours d'une promenade vous trouviez un iris. N'étant pas un spécialiste, il ne vous est pas vraiment possible de déterminer l'espèce. En revanche, vous êtes capables de mesurer la longueur et la largeur des pétales de cet iris. Imaginons qu'un pétale fasse 2 cm de long et 0,5 cm de large. Ajoutons le point correpondant sur le graphique :"
   ]
  },
  {
   "cell_type": "code",
   "execution_count": null,
   "metadata": {},
   "outputs": [],
   "source": [
    "plt.scatter(2, 0.5, color='k')\n",
    "affiche(long, larg, esp)"
   ]
  },
  {
   "cell_type": "markdown",
   "metadata": {},
   "source": [
    "Quelle est à votre avis l'espèce de cet iris ?"
   ]
  },
  {
   "cell_type": "markdown",
   "metadata": {},
   "source": [
    "Supposons maintenant que l'iris trouvé a des pétales de 2,4 cm de long et 0,8 cm de large. \n",
    "\n",
    "><h3 class='fa fa-cogs' style=\"color: darkorange\"> A faire vous-même </h3>\n",
    ">\n",
    "> Taper ci-dessous les instructions pour visualiser ce cas. L'espèce paraît-elle aussi évidente ?"
   ]
  },
  {
   "cell_type": "code",
   "execution_count": null,
   "metadata": {},
   "outputs": [],
   "source": []
  },
  {
   "cell_type": "markdown",
   "metadata": {},
   "source": [
    "<h2>L'agorithme des $k$ plus proches voisins</h2>\n",
    "\n",
    "Dans ce genre de cas, il peut être intéressant d'utiliser l'algorithme des \"$k$ plus proches voisins\". Cet algorithme consiste à :\n",
    "\n",
    "   * calculer la distance entre notre point (largeur du pétale = 0,8 cm ; longueur du pétale = 2,4 cm) et chaque point issu du jeu de données \"iris\" (à chaque fois c'est un calcul de distance entre 2 points tout ce qu'il y a de plus classique)\n",
    "   * sélectionner uniquement les k distances les plus petites (les k plus proches voisins)\n",
    "   * parmi les k plus proches voisins, déterminer quelle est l'espèce majoritaire. On associe à notre \"iris mystère\" cette \"espèce majoritaire parmi les k plus proches voisins\"\n",
    "\n",
    "Prennons $k = 3$. On obtient le graphique :\n",
    "<img alt=\"3 voisins\" src=\"exemplek3.png\">\n",
    "On constate que parmi les trois plus proches voisins, 2 appartiennent à l'espèce *setosa* alors qu'un seul appartient à l'espèce *versicolor*. On peut donc supposer que l'iris trouvé appartient à l'espèce *setosa*."
   ]
  },
  {
   "cell_type": "markdown",
   "metadata": {},
   "source": [
    "<h2>Mise en œuvre</h2>\n",
    "\n",
    "Pour pouvoir mettre l'algorithme en œuvre, on va avoir besoin de plusieurs fonctions. Tout d'abord une fonction prenant en paramètre les coordonnées de deux points et renvoyant la distance entre les deux.\n",
    "\n",
    "Rappel : la distance entre $M(x_1,y_1)$ et $N(x_2,y_2)$ est $MN=\\sqrt{(x_2-x_1)^2+(y_2-y_1)^2}$."
   ]
  },
  {
   "cell_type": "markdown",
   "metadata": {},
   "source": [
    "><h3 class='fa fa-cogs' style=\"color: darkorange\"> A faire vous-même </h3>\n",
    ">\n",
    "> Compléter la fonction suivante. Pour calculer une racine carrée, vous pouvez utiliser la fonction `np.sqrt`"
   ]
  },
  {
   "cell_type": "code",
   "execution_count": null,
   "metadata": {},
   "outputs": [],
   "source": [
    "def distance(x1, y1, x2, y2):\n",
    "    \"\"\"Renvoie la distance entre les points de coordonnées (x1, y1) et (x2, y2)\"\"\"\n",
    "    return np.sqrt((x2 - x1)**2 + (y2 - y1)**2)"
   ]
  },
  {
   "cell_type": "markdown",
   "metadata": {},
   "source": [
    "Il faut alors calculer la distance entre notre point et chaque point issu du jeu de données. On trie ensuite les points par ordre croissant de distance pour ne garder que  les $k$ points les plus proches. Or, si une liste est constituée de couples, la méthode `sort` trie d'abord en fonction de la première valeur. On peut donc mémoriser des couples (distance, indice du point correspondant) dans une liste, que l'on pourra trier ensuite."
   ]
  },
  {
   "cell_type": "code",
   "execution_count": null,
   "metadata": {},
   "outputs": [],
   "source": [
    "def kPlusProches(x0, y0, donnees, k):\n",
    "    \"\"\"Renvoie la liste des indices des k points de la liste donnees les plus proches du point\n",
    "    de corrdonnées (x, y).\n",
    "    donnees doit être une liste de couples de coordonnées\"\"\"\n",
    "    voisins = []  # la liste des indices des k voisins, avec la distance correspondante\n",
    "    if k > len(donnees):  # si on demande plus de voisin qu'il n'y a de points\n",
    "        k = len(donnees)  # on réduit k\n",
    "    for i in range(len(donnees)):\n",
    "        x, y = donnees[i]\n",
    "        d = distance(x0, y0, x, y)\n",
    "        voisins.append((d, i))\n",
    "    voisins.sort()  # Pour un couple, sort trie d'abord en fonction de la première valeur, donc la distance\n",
    "    return [voisins[i][1] for i in range(k)]  # on renvoie les indices des k points les plus proches            "
   ]
  },
  {
   "cell_type": "markdown",
   "metadata": {},
   "source": [
    "Pour obtenir une liste de couples de coordonnées, on peut utiliser la fonction `zip` qui permet de passer de deux listes de valeurs à une liste de couples. La fonction renvoie cependant un objet de type `zip` qu'il faut convertir en liste pour pouvoir l'utiliser comme on veut :"
   ]
  },
  {
   "cell_type": "code",
   "execution_count": null,
   "metadata": {},
   "outputs": [],
   "source": [
    "l1 = [1, 2, 3, 4, 5, 6]\n",
    "l2 = [7, 8, 9, 10, 11, 12]\n",
    "list(zip(l1, l2))"
   ]
  },
  {
   "cell_type": "markdown",
   "metadata": {},
   "source": [
    "><h3 class='fa fa-cogs' style=\"color: darkorange\"> A faire vous-même </h3>\n",
    ">\n",
    "> Créer deux variables `x0` et `y0` pour stocker les coordonnées (2.4, 0.8), une liste `coords` des couples de coordonnées des points du jeu de données, puis déterminer dans une variable `ind` la liste des indices des trois points les plus proches de notre point."
   ]
  },
  {
   "cell_type": "code",
   "execution_count": null,
   "metadata": {},
   "outputs": [],
   "source": [
    "x0, y0 = 2.4, 0.8\n",
    "coords = list(zip(long, larg))\n",
    "ind = kPlusProches(x0, y0, coords, 3)"
   ]
  },
  {
   "cell_type": "markdown",
   "metadata": {},
   "source": [
    "Vous pouvez tester le résultat en exécutant la cellule suivante :"
   ]
  },
  {
   "cell_type": "code",
   "execution_count": null,
   "metadata": {},
   "outputs": [],
   "source": [
    "affiche(long, larg, esp)\n",
    "plt.scatter(x0, y0, color='k')\n",
    "plt.scatter(long[ind], larg[ind], color='k', marker='+')"
   ]
  },
  {
   "cell_type": "markdown",
   "metadata": {},
   "source": [
    "Il ne reste plus qu'à écrire une fonction qui donne l'espèce majoritaire dans les $k$ plus proches voisins obtenus pour obtenir une classification de notre iris."
   ]
  },
  {
   "cell_type": "code",
   "execution_count": null,
   "metadata": {},
   "outputs": [],
   "source": [
    "def majoritaire(ind, esp):\n",
    "    \"\"\"Renvoie la valeur la plus fréquente parmi les valeurs de la liste valeurs\n",
    "    dont les indices sont dans ind.\"\"\"\n",
    "    nb_esp = [0, 0, 0]  # le nombre d'iris de chaque espèce parmi les voisins\n",
    "    for i in ind:\n",
    "        nb_esp[esp[i]] += 1\n",
    "    # recherche de l'indice du maximum\n",
    "    i_max = 0\n",
    "    for i in range(1, 3):\n",
    "        if nb_esp[i] > nb_esp[i_max]:\n",
    "            i_max = i\n",
    "    return i_max"
   ]
  },
  {
   "cell_type": "code",
   "execution_count": null,
   "metadata": {},
   "outputs": [],
   "source": [
    "majoritaire(ind, esp)"
   ]
  },
  {
   "cell_type": "markdown",
   "metadata": {},
   "source": [
    "><h3 class='fa fa-cogs' style=\"color: darkorange\"> A faire vous-même </h3>\n",
    ">\n",
    "> Tester d'autres coordonnées `x0` et `y0` ou d'autres valeurs de $k$ pour voir l'influence des différents paramètres."
   ]
  },
  {
   "cell_type": "code",
   "execution_count": null,
   "metadata": {},
   "outputs": [],
   "source": [
    "noms = [\"setosa\", \"versicolor\", \"virginica\"]\n",
    "x0, y0 = 2.4, 0.8\n",
    "k = 3\n",
    "ind = kPlusProches(x0, y0, coords, k)\n",
    "res = majoritaire(ind, esp)\n",
    "affiche(long, larg, esp)\n",
    "plt.scatter(x0, y0, color='cyan')\n",
    "plt.scatter(long[ind], larg[ind], color='cyan', marker='+')\n",
    "plt.text(3, 0.5, f\"longueur : {x0} cm, largeur : {y0} cm\")\n",
    "plt.text(3, 0.3, f\"Résultat pour k = {k} : {noms[res]}.\")"
   ]
  }
 ],
 "metadata": {
  "kernelspec": {
   "display_name": "Python 3",
   "language": "python",
   "name": "python3"
  },
  "language_info": {
   "codemirror_mode": {
    "name": "ipython",
    "version": 3
   },
   "file_extension": ".py",
   "mimetype": "text/x-python",
   "name": "python",
   "nbconvert_exporter": "python",
   "pygments_lexer": "ipython3",
   "version": "3.6.9"
  }
 },
 "nbformat": 4,
 "nbformat_minor": 2
}
