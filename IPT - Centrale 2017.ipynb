{
 "cells": [
  {
   "cell_type": "markdown",
   "metadata": {
    "deletable": false,
    "editable": false,
    "run_control": {
     "frozen": true
    }
   },
   "source": [
    "# Mars Exploration Rovers: Mission d’exploration martienne\n",
    "\n",
    "_(Sujet proposé par le concours Centrale Supélec, adapté avec l'aide de Tristan Stérin, diffusé comme l'original sous licence [CC BY-NC-SA](http://creativecommons.org/licenses/by-nc-sa/2.0/fr/\n",
    "))_\n",
    "\n",
    "Mars Exploration Rovers (MER) est une mission de la NASA qui cherche à étudier le rôle joué par l’eau dans l’histoire de la planète Mars. Deux robots géologues, Spirit et Opportunity (figure 1), se sont posés sur cette planète, sur deux sites opposés, en janvier 2004. Leur mission est de rechercher et d’analyser différents types de roches et de sols qui peuvent contenir des indices sur la présence d’eau. Ils sont équipés de six roues et d’une suspension spécialement conçue pour leur permettre de se déplacer quelle que soit la nature du terrain rencontré. Leur cahier des charges prévoyait une durée de vie de 90 jours martiens (le jour martien est environ 40 minutes plus long que le jour terrestre). Spirit a cessé d’émettre le 22 mars 2010, soit 2210 jours martiens après son arrivée sur la planète. Début 2017, Opportunity est toujours en activité et il a parcouru plus de 44 km sur Mars.\n",
    "\n",
    "![couverture](https://nextcloud.cpge-henri4.fr/index.php/s/s65RJwgYSM2BkQY/preview)\n",
    "\n",
    "Chaque robot est équipé de plusieurs instruments d’analyse (caméra, microscope, spectromètres) et d’un bras qui permet d’amener les instruments au plus près des roches et sols dignes d’intérêt. À partir de photographies de la surface de la planète, prises à plusieurs longueurs d’ondes par différents satellites et par le robot lui-même, les scientifiques de la NASA définissent une liste d’emplacements (*points d’intérêt* ou PI) où effectuer des analyses. Cette liste est transmise au robot qui doit se rendre à chaque emplacement indiqué et y effectuer les analyses prévues. Chaque robot est capable d’effectuer un certain nombre de types d’analyses géologiques correspondant aux différents instruments dont il dispose. Une fois tous les points d’intérêts visités et les résultats des analyses transmis à la Terre, le robot reçoit une nouvelle liste de points d’intérêts et démarre une nouvelle *exploration*.\n",
    "\n",
    "Compte-tenu des contraintes de transmission entre la Terre et les robots (latence, périodes d’ombre, faible débit, etc.) il est prévu que les robots travaillent en autonomie pour planifier le parcours de chaque exploration. Ainsi, une fois la liste des points d’intérêt reçue, le robot analyse le terrain afin de détecter d’éventuels obstacles et détermine le meilleur chemin lui permettant de visiter l’ensemble de ces points en dépensant le moins d’énergie possible.\n",
    "\n",
    "Après s’être intéressé à l’enregistrement des explorations, des points d’intérêts correspondants et des analyses à y mener, ce sujet aborde trois algorithmes qui peuvent être utilisés par le robot pour déterminer le meilleur parcours lui permettant de visiter chaque point d’intérêt une et une seule fois. Pour cela nous faisons quelques hypothèses simplificatrices :\n",
    "  - la zone d’exploration est dépourvue d’obstacle : le robot peut rejoindre directement en ligne droite n’importe quel point d’intérêt ;\n",
    "  - le sol est horizontal et de nature constante : l’énergie utilisé pour se déplacer entre deux points ne dépend que de leur distance, autrement dit le meilleur chemin est le plus court ;\n",
    "  - et la courbure de la planète est négligée compte tenu de la dimension réduite de la zone d’exploration : nous travaillerons en géométrie euclidienne et les points d’intérêts seront repérés par leurs coordonnées cartésiennes à l’intérieur de la zone d’exploration.\n",
    "\n",
    "Toutes les questions sont indépendantes, néanmoins il est possible de faire appel à des fonctions ou procédures créées dans d’autres questions. Dans tout le sujet on suppose que les bibliothèques `math`, `numpy` et `random` ont été importées grâce aux instructions suivantes. Placez votre curseur sur la cellule suivante et appuyez sur Ctrl-Enter pour exécuter la cellule."
   ]
  },
  {
   "cell_type": "code",
   "execution_count": 1,
   "metadata": {
    "deletable": false,
    "editable": false
   },
   "outputs": [],
   "source": [
    "import math\n",
    "import numpy as np \n",
    "import random"
   ]
  },
  {
   "cell_type": "markdown",
   "metadata": {
    "deletable": false,
    "editable": false,
    "run_control": {
     "frozen": true
    }
   },
   "source": [
    "Si les candidats font appel à des fonctions d’autres bibliothèques ils doivent préciser les instructions d’importation correspondantes.\n",
    "\n",
    "Ce sujet utilise la syntaxe des annotations pour préciser le types des arguments et du résultat des fonctions à écrire. Ainsi `def ma_fonction(n:int, x:float, d:str) -> np.ndarray:` signifie que la fonction `ma_fonction` prend trois arguments, le premier est un entier, le deuxième un nombre à virgule flottante et le troisième une chaine de caractères et qu’elle renvoie un tableau numpy.\n",
    "\n",
    "Une liste de fonctions utiles est donnée à la fin du sujet.\n",
    "\n",
    "# I. Création d’une exploration et gestion des points d’intérêt\n",
    "\n",
    "Une exploration est un ensemble de points d’intérêts à l’intérieur d’une zone géographique limitée, une série\n",
    "d’analyses étant associée à chaque point d’intérêt. Chaque type d’analyse que le robot peut effectuer est codifié\n",
    "et référencé par un nombre entier. Un point d’intérêt est repéré par deux entiers, positifs ou nuls, correspondant\n",
    "à ses coordonnées cartésiennes en millimètres à l’intérieur de la zone d’exploration. L’ensemble des points\n",
    "d’intérêts d’une exploration qui en contient $n$ est représenté par un objet de type `numpy.ndarray`, à éléments\n",
    "entiers, à 2 colonnes et $n$ lignes, l’élément d’indice `i, 0` correspondant à l’abscisse du point d’intérêt $i$ et l’élément\n",
    "d’indice `i, 1` à son ordonnée.\n",
    "\n",
    "On pourra ainsi avoir l'exploration `explo_ex` à 4 points donnée par le tableau suivant : \n",
    "<table>\n",
    "    <tr><th>x</th><th>y</th></tr>\n",
    "    <tr><td>345</td><td>635</td></tr>\n",
    "    <tr><td>1076</td><td>415</td></tr>\n",
    "    <tr><td>38</td><td>859</td></tr>\n",
    "    <tr><td>121</td><td>582</td></tr>\n",
    "</table>\n",
    "et traduite par l'instruction en Python dans la cellule ci-dessous : "
   ]
  },
  {
   "cell_type": "code",
   "execution_count": 2,
   "metadata": {
    "deletable": false,
    "editable": false
   },
   "outputs": [],
   "source": [
    "explo_ex = np.array([[345, 635],\n",
    "                     [1076, 415],\n",
    "                     [38, 859],\n",
    "                     [121, 582]])"
   ]
  },
  {
   "cell_type": "markdown",
   "metadata": {
    "deletable": false,
    "editable": false,
    "run_control": {
     "frozen": true
    }
   },
   "source": [
    "# I.A – Génération d’une exploration d’essai\n",
    "### I.A.1) Choix de points au hasard\n",
    "\n",
    "a) Afin de disposer de données pour tester les différents algorithmes de calcul de chemin qui seront développés plus tard, écrire une fonction qui construit une exploration au hasard. Cette fonction d’entête `def generer_PI(n:int, cmax:int) -> np.ndarray:` qui prend en paramètres le nombre de points d’intérêts à générer et la largeur de la zone d’exploration (supposée carrée) et renvoie un objet de type `numpy.ndarray` contenant les coordonnées de $n$ points deux à deux distincts choisis au hasard dans la zone d’exploration (figure 2)."
   ]
  },
  {
   "cell_type": "code",
   "execution_count": null,
   "metadata": {},
   "outputs": [],
   "source": [
    "def generer_PI(n:int, cmax:int) -> np.ndarray:\n",
    "    ..."
   ]
  },
  {
   "cell_type": "markdown",
   "metadata": {
    "deletable": false,
    "editable": false,
    "run_control": {
     "frozen": true
    }
   },
   "source": [
    "b) Quelles contraintes doivent vérifier les arguments de la fonction `generer_PI` ?"
   ]
  },
  {
   "cell_type": "markdown",
   "metadata": {},
   "source": [
    "$2^2$ ou 2^2"
   ]
  },
  {
   "cell_type": "markdown",
   "metadata": {
    "deletable": false,
    "editable": false,
    "run_control": {
     "frozen": true
    }
   },
   "source": [
    "## I.A.2) Calcul des distances\n",
    "\n",
    "On dispose de la fonction d’entête `def position_robot() -> tuple:` qui renvoie un couple donnant les coordonnées actuelles du robot dans le système de coordonnées de l’exploration à planifier. Ainsi l’instruction `x, y = position_robot()` permet de récupérer les coordonnées courantes du robot.          \n",
    "\n",
    "Afin de faciliter l’application des différents algorithmes de recherche de chemin, on souhaite construire un tableau des distances entre les différents points d’intérêt d’une exploration et entre ceux-ci et la position courante du robot au moment du calcul. \n",
    "\n",
    "Écrire une fonction d’entête `def calculer_distances(PI:np.ndarray) -> np.ndarray:` qui prend en paramètre un tableau de $n$ points d’intérêt tel que décrit précédemment et renvoie un tableau de nombres flottants, de dimension $(n + 1) \\times (n + 1)$, tel que l’élément d’indice `i, j` fournit la distance entre les points d’intérêt $i$ et $j$, l’indice $n$ désignant le point de départ du robot."
   ]
  },
  {
   "cell_type": "code",
   "execution_count": null,
   "metadata": {
    "deletable": false,
    "editable": false
   },
   "outputs": [],
   "source": [
    "# Afin de tester les fonctions, on prendra pour le moment :\n",
    "pos_x = 0\n",
    "pos_y = 0\n",
    "# Mais vous ne devez utilisre que la fonction position_robot dans la suite du sujet : \n",
    "def position_robot() -> tuple:\n",
    "    return pos_x, pos_y"
   ]
  },
  {
   "cell_type": "code",
   "execution_count": null,
   "metadata": {},
   "outputs": [],
   "source": [
    "def calculer_distances(PI:np.ndarray) -> np.ndarray:\n",
    "    ..."
   ]
  },
  {
   "cell_type": "code",
   "execution_count": null,
   "metadata": {
    "deletable": false,
    "editable": false
   },
   "outputs": [],
   "source": [
    "# Testez votre fonction \n",
    "calculer_distances(explo_ex)"
   ]
  },
  {
   "cell_type": "markdown",
   "metadata": {
    "deletable": false,
    "editable": false,
    "run_control": {
     "frozen": true
    }
   },
   "source": [
    "## I.B – Traitement d’image\n",
    "\n",
    "On dispose de photographies d’une zone d’exploration effectuées à différentes longueur d’onde. Chaque photographie a été mises à l’échelle de la zone d’exploration puis stockée dans un tableau numpy (`np.ndarray`) à deux dimensions. Les dimensions correspondent aux coordonnées géographiques du point photographié, chaque élément est un entier, compris entre `0` et `255`, donnant l’intensité du point considéré sur l’image. Ainsi l’élément d’indice `x,y` contient un entier, compris entre `0` et `255`, correspondant à l’intensité sur la photographie considérée du point de coordonnées $(x, y)$. À partir de ces photographies, les géologues déterminent les endroits à analyser en filtrant ceux qui ont un profil d’émission caractéristique de certaines roches intéressantes.\n",
    "\n",
    "### I.B.1) Analyse d’une image\n",
    "\n",
    "La fonction `f1` ci-dessous prend en paramètre une photographie représentée comme décrit plus haut. Expliquer ce que fait cette fonction et décrire son résultat."
   ]
  },
  {
   "cell_type": "code",
   "execution_count": null,
   "metadata": {
    "deletable": false,
    "editable": false
   },
   "outputs": [],
   "source": [
    "def f1(photo:np.ndarray) -> np.ndarray:\n",
    "    n = photo.min()\n",
    "    b = photo.max()\n",
    "    h = np.zeros(b-n+1, np.int64)\n",
    "    for p in photo.flat:\n",
    "        h[p - n] += 1\n",
    "    return h"
   ]
  },
  {
   "cell_type": "markdown",
   "metadata": {},
   "source": []
  },
  {
   "cell_type": "markdown",
   "metadata": {
    "deletable": false,
    "editable": false,
    "run_control": {
     "frozen": true
    }
   },
   "source": [
    "### I.B.2) Sélection de points d’intérêts\n",
    "\n",
    "Écrire une fonction d’entête `def selectionner_PI(photo:np.ndarray, imin:int, imax:int) -> np.ndarray:` où `photo` est un tableau représentant une photographie. Le résultat de la fonction `sélectionner_PI` est un tableau à deux dimensions, de structure similaire à celui décrit figure 2, contenant les coordonnées des points\n",
    "dont l’intensité sur la photographie est comprise entre `imin` et `imax`."
   ]
  },
  {
   "cell_type": "code",
   "execution_count": null,
   "metadata": {},
   "outputs": [],
   "source": [
    "def selectionner_PI(photo:np.ndarray, imin:int, imax:int) -> np.ndarray:\n",
    "    ..."
   ]
  },
  {
   "cell_type": "markdown",
   "metadata": {
    "deletable": false,
    "editable": false,
    "run_control": {
     "frozen": true
    }
   },
   "source": [
    "_Note-bonus_ : il est possible de faire cette fonction sans utiliser de boucle Python, ce qui accélère les calculs en particulier pour de grosses photos. "
   ]
  },
  {
   "cell_type": "code",
   "execution_count": null,
   "metadata": {},
   "outputs": [],
   "source": [
    "# Testez votre fonction\n",
    "selectionner_PI([[0, 1, 2, 3],\n",
    "                 [3, 2, 1, 0],\n",
    "                 [1, 1, 2, 3],\n",
    "                 [3, 3, 2, 1]], 1, 2)"
   ]
  },
  {
   "cell_type": "markdown",
   "metadata": {
    "deletable": false,
    "editable": false,
    "run_control": {
     "frozen": true
    }
   },
   "source": [
    "Quelle est la complexité de la fonction `selectionner_PI`, à exprimer en fonction des paramètres de votre choix ? "
   ]
  },
  {
   "cell_type": "markdown",
   "metadata": {},
   "source": []
  },
  {
   "cell_type": "markdown",
   "metadata": {
    "deletable": false,
    "editable": false,
    "run_control": {
     "frozen": true
    }
   },
   "source": [
    "## I.C – Base de données\n",
    "\n",
    "Afin d’assurer son autonomie opérationnelle, le robot dispose localement des informations nécessaires à son fonctionnement quotidien. Ainsi, il enregistre la durée d’utilisation de ses différents instruments embarqués. Il connait également les différents types d’analyses qu’il peut effectuer et, pour chacun de ces types, les instruments à utiliser. Il enregistre la prochaine exploration, c’est-à-dire les différents points d’intérêts qu’il doit visiter et pour chacun la ou les analyses qu’il doit effectuer. D’autre part, il conserve les résultats d’analyses effectuées lors de ses explorations passées. Ces résultats ne sont effacés qu’après confirmation de leur bonne transmission sur Terre.               \n",
    "\n",
    "Ces différentes informations sont stockées dans une base de données relationnelle dont le modèle physique est schématisé ci-dessous\n",
    "\n",
    "![Schéma de la base](https://nextcloud.cpge-henri4.fr/index.php/s/dGbwNiELkAFYF9D/preview)\n",
    "\n",
    "Cette base comporte les six tables suivantes :   \n",
    "    \n",
    "- la table `EXPLO` des explorations, avec les colonnes          \n",
    "    - `EX_NUM` numéro (entier) de l’exploration (clef primaire)             \n",
    "    - `EX_CHG` date de transmission des points d’intérêts de cette exploration               \n",
    "    - `EX_DEB` date de début de l’exploration (`NULL` si l’exploration n’est pas encore commencée)        \n",
    "    - `EX_FIN` date de fin de l’exploration (`NULL` si l’exploration n’est pas encore terminée)            \n",
    "    - `EX_LAT` latitude (en degrés décimaux) du point de coordonnées $(0, 0)$ de la zone d’exploration          \n",
    "    - `EX_LON` longitude (en degrés décimaux) du point de coordonnées $(0, 0)$ de la zone d’exploration              \n",
    "    \n",
    "           \n",
    "- la table `PI` des points d’intérêts, de clef primaire (`EX_NUM`, `PI_NUM`), avec les colonnes\n",
    "    - `EX_NUM` numéro de l’exploration à laquelle appartient le point d’intérêt\n",
    "    - `PI_NUM` numéro du point d’intérêt dans l’exploration (au sein d’une exploration les `PI` sont numérotés en séquence en commençant à 0, ce numéro n’a pas de rapport avec l’ordre dans lequel les `PI` sont explorés par le robot)   \n",
    "    - `PI_X` l’abscisse du point d’intérêt dans la zone d’exploration (entier positif en millimètres)\n",
    "    - `PI_Y` l’ordonnée du point d’intérêt dans la zone d’exploration (entier positif en millimètres)\n",
    "    - `PI_ARR` date d’arrivée du robot au point d’intérêt (`NULL` si ce point n’a pas encore été visité)\n",
    "    - `PI_DEP` date à laquelle le robot a quitté le point d’intérêt (`NULL` si ce point n’a pas encore été exploré ou si la visite est en cours)            \n",
    "\n",
    "       \n",
    "- la table `INSTR` des instruments embarqués, avec les colonnes\n",
    "    - `IN_NUM` le numéro (entier) de l’instrument (clef primaire)\n",
    "    - `IN_FCT` la durée pendant lequel l’instrument a déjà été utilisé depuis l’arrivée sur la planète (nombre décimal : fraction de jour martien)\n",
    "    - `IN_DER` la date de la dernière utilisation de l’instrument\n",
    "    - `IN_NOM` nom de l’instrument            \n",
    "\n",
    "         \n",
    "- la table `TYANA` des types d’analyses à effectuer, avec les colonnes\n",
    "    - `TY_NUM` le numéro de référence (entier) du type d’analyse (clef primaire)\n",
    "    - `TY_DES` le nom du type d’analyse\n",
    "\n",
    "      \n",
    "- la table `INTYP` des instruments utilisés pour un type d’analyse, de clef primaire (`TY_NUM`, `IN_NUM`), avec les colonnes\n",
    "    - `TY_NUM` le numéro de référence (entier) du type d’analyse\n",
    "    - `IN_NUM` le numéro (entier) de l’instrument\n",
    "    - `IT_DUR` la durée standard d’utilisation de l’instrument dans ce type d’analyse (nombre décimal : fraction de jour martien)              \n",
    "\n",
    "       \n",
    "- la table `ANALY` indiquant pour chaque point d’intérêt les types d’analyses à effectuer ou effectuées, de clef primaire (`EX_NUM`, `PI_NUM`, `TY_NUM`) et avec les colonnes\n",
    "    - `EX_NUM` numéro de l’exploration à laquelle appartient le point d’intérêt\n",
    "    - `PI_NUM` numéro du point d’intérêt dans l’exploration\n",
    "    - `TY_NUM` type de l’analyse\n",
    "     \n",
    "Toutes les dates sont stockées sous forme d’un nombre décimal correspondant au nombre de jours martiens depuis l’arrivée du robot sur la planète.\n",
    "\n",
    "On ne pourra malheureusement pas tester les requêtes ici, parce que je n'ai pas la base de donnée à disposition.\n",
    "\n",
    "### I.C.1) \n",
    "Écrire une requête SQL qui donne le numéro de l’exploration en cours, s’il y en a une."
   ]
  },
  {
   "cell_type": "code",
   "execution_count": null,
   "metadata": {},
   "outputs": [],
   "source": [
    "SELECT ..."
   ]
  },
  {
   "cell_type": "markdown",
   "metadata": {
    "deletable": false,
    "editable": false,
    "run_control": {
     "frozen": true
    }
   },
   "source": [
    "### I.C.2) \n",
    "Écrire une requête SQL qui donne, pour une exploration dont on connait le numéro, la liste des points d’intérêts de cette exploration avec leurs coordonnées."
   ]
  },
  {
   "cell_type": "code",
   "execution_count": null,
   "metadata": {},
   "outputs": [],
   "source": [
    "SELECT ..."
   ]
  },
  {
   "cell_type": "markdown",
   "metadata": {
    "deletable": false,
    "editable": false,
    "run_control": {
     "frozen": true
    }
   },
   "source": [
    "### I.C.3) \n",
    "Écrire une requête SQL qui donne la surface, en mètres carrés, de chaque zone déjà explorée par le robot. La zone d’exploration est définie comme le plus petit rectangle qui englobe l’ensemble des points d’intérêts de l’exploration et dont les bords sont parallèles aux axes de référence (axes des abscisse et des ordonnées)."
   ]
  },
  {
   "cell_type": "code",
   "execution_count": null,
   "metadata": {},
   "outputs": [],
   "source": [
    "SELECT ..."
   ]
  },
  {
   "cell_type": "markdown",
   "metadata": {
    "deletable": false,
    "editable": false,
    "run_control": {
     "frozen": true
    }
   },
   "source": [
    "### I.C.4) \n",
    "Quelle est la surface maximale d’une zone d’exploration que peut stocker cette base de données ?"
   ]
  },
  {
   "cell_type": "markdown",
   "metadata": {},
   "source": []
  },
  {
   "cell_type": "markdown",
   "metadata": {
    "deletable": false,
    "editable": false,
    "run_control": {
     "frozen": true
    }
   },
   "source": [
    "_Note_ : Si vous ne savez pas répondre à cette question, c'est normal, parce qu'il vous manque des éléments. Vous pouvez inventer un nombre de bits pour stocker les entiers (sans doute 64, peut-être 32) et utiliser cette valeur dans vos calculs. "
   ]
  },
  {
   "cell_type": "markdown",
   "metadata": {
    "deletable": false,
    "editable": false,
    "run_control": {
     "frozen": true
    }
   },
   "source": [
    "### I.C.5) \n",
    "Écrire une requête SQL qui donne, pour l’exploration en cours, le nombre de fois où chaque instrument\n",
    "doit être utilisé et sa durée d’utilisation théorique (en jours martiens) pour la totalité de l’exploration."
   ]
  },
  {
   "cell_type": "code",
   "execution_count": null,
   "metadata": {},
   "outputs": [],
   "source": [
    "SELECT ..."
   ]
  },
  {
   "cell_type": "markdown",
   "metadata": {
    "deletable": false,
    "editable": false,
    "run_control": {
     "frozen": true
    }
   },
   "source": [
    "# II. Planification d’une exploration : première approche\n",
    "\n",
    "Avant de démarrer une nouvelle exploration, le robot doit déterminer un chemin qui lui permet de passer par tous les points d’intérêts une et une seule fois. L’enjeu de l'opération est de trouver le chemin le plus court possible afin de limiter la dépense d’énergie et de limiter l’usure du robot. Chaque point d’intérêt sera repéré par un entier positif ou nul correspondant à son indice dans le tableau des points d’intérêt. Un chemin d’exploration sera représenté par un objet de type `list` donnant les indices des points d’intérêt dans l’ordre de leur parcours.\n",
    "\n",
    "## II.A – Quelques fonctions utilitaires\n",
    "### II.A.1) Longueur d’un chemin\n",
    "\n",
    "Écrire une fonction d’entête `def longueur_chemin(chemin:list, d:np.ndarray) -> float:` qui prend en paramètre un chemin à parcourir et la matrice des distances entre points d’intérêt (telle que renvoyée par la fonction `calculer_distances`) et renvoie la distance que doit effectuer le robot pour suivre ce chemin en partant de sa position courante (correspondant à la dernière ligne/colonne du tableau `d`) et en visitant tous les points d’intérêt dans l’ordre indiqué."
   ]
  },
  {
   "cell_type": "code",
   "execution_count": null,
   "metadata": {},
   "outputs": [],
   "source": [
    "def longueur_chemin(chemin:list, d:np.ndarray) -> float:\n",
    "    ..."
   ]
  },
  {
   "cell_type": "code",
   "execution_count": null,
   "metadata": {},
   "outputs": [],
   "source": [
    "# Testez votre fonction\n",
    "longueur_chemin([0, 1, 2], calculer_distances(explo_ex))"
   ]
  },
  {
   "cell_type": "markdown",
   "metadata": {
    "deletable": false,
    "editable": false,
    "run_control": {
     "frozen": true
    }
   },
   "source": [
    "### II.A.2) Normalisation d’un chemin\n",
    "\n",
    "Écrire une fonction d’entête `def normaliser_chemin(chemin:list, n:int) -> list:` qui prend en paramètre une liste d’entiers et renvoie une liste correspondant à un chemin valide, c’est-à-dire contenant une seule fois tous les entiers entre 0 et `n` (exclu). Pour cela cette fonction commence par supprimer les éventuels doublons (en ne conservant que la première occurrence) et les valeurs supérieures ou égales à `n`, sans modifier l’ordre relatif des éléments conservés, puis ajoute à la fin les éventuels éléments manquants en ordre croissant de numéros."
   ]
  },
  {
   "cell_type": "code",
   "execution_count": null,
   "metadata": {},
   "outputs": [],
   "source": [
    "def normaliser_chemin(chemin:list, n:int) -> list:\n",
    "    ..."
   ]
  },
  {
   "cell_type": "code",
   "execution_count": null,
   "metadata": {},
   "outputs": [],
   "source": [
    "# Testez votre fonction\n",
    "normaliser_chemin([1, 3, 4, 4, 5, 10, 9, 2], 9)"
   ]
  },
  {
   "cell_type": "markdown",
   "metadata": {
    "deletable": false,
    "editable": false,
    "run_control": {
     "frozen": true
    }
   },
   "source": [
    "## II.B – Force brute\n",
    "\n",
    "Pour rechercher le plus court chemin, on peut imaginer de considérer tous les chemins possibles et de calculer leur longueur. On obtiendra ainsi à coup sûr le chemin le plus court.\n",
    "\n",
    "### II.B.1) \n",
    "Déterminer en fonction de $n$, nombre de points à visiter, le nombre de chemins possibles passant\n",
    "exactement une fois par chacun des points."
   ]
  },
  {
   "cell_type": "markdown",
   "metadata": {},
   "source": []
  },
  {
   "cell_type": "markdown",
   "metadata": {
    "deletable": false,
    "editable": false,
    "run_control": {
     "frozen": true
    }
   },
   "source": [
    "### II.B.2)\n",
    "Cet algorithme est-il utilisable pour une zone d’exploration contenant 20 points d’intérêts ? Justifier."
   ]
  },
  {
   "cell_type": "markdown",
   "metadata": {},
   "source": []
  },
  {
   "cell_type": "markdown",
   "metadata": {
    "deletable": false,
    "editable": false,
    "run_control": {
     "frozen": true
    }
   },
   "source": [
    "## II.C – Algorithme du plus proche voisin\n",
    "Une idée simple pour obtenir un algorithme utilisable est de construire un chemin en choisissant systématiquement le point, non encore visité, le plus proche de la position courante.\n",
    "\n",
    "### II.C.1) \n",
    "Écrire une fonction d’entête `def plus_proche_voisin(d:np.ndarray) -> list:` qui prend en paramètre le tableau des distances résultat de la fonction `calculer_distances` (question **I.A.2**) et fournit un chemin d’exploration en appliquant l’algorithme du plus proche voisin."
   ]
  },
  {
   "cell_type": "code",
   "execution_count": null,
   "metadata": {},
   "outputs": [],
   "source": [
    "def plus_proche_voisin(d:np.ndarray) -> list:\n",
    "    ..."
   ]
  },
  {
   "cell_type": "code",
   "execution_count": null,
   "metadata": {},
   "outputs": [],
   "source": [
    "# Testez votre fonction\n",
    "calculer_distances(explo_ex), plus_proche_voisin(calculer_distances(explo_ex))"
   ]
  },
  {
   "cell_type": "markdown",
   "metadata": {
    "deletable": false,
    "editable": false,
    "run_control": {
     "frozen": true
    }
   },
   "source": [
    "### II.C.2) \n",
    "Quelle est la complexité temporelle de l’algorithme du plus proche voisin en fonction du nombre $n$ de points d'intérêts ? "
   ]
  },
  {
   "cell_type": "markdown",
   "metadata": {},
   "source": []
  },
  {
   "cell_type": "markdown",
   "metadata": {
    "deletable": false,
    "editable": false,
    "run_control": {
     "frozen": true
    }
   },
   "source": [
    "### II.C.3) \n",
    "En considérant les trois points de coordonnées $(0, 0)$, $(0, 3000)$, $(0, 7000)$ et en choisissant un point de départ adéquat pour le robot, montrer que l’algorithme du plus proche voisin ne fournit pas nécessairement le plus court chemin. "
   ]
  },
  {
   "cell_type": "markdown",
   "metadata": {},
   "source": []
  },
  {
   "cell_type": "markdown",
   "metadata": {
    "deletable": false,
    "editable": false,
    "run_control": {
     "frozen": true
    }
   },
   "source": [
    "_Note du sujet_ : Dans la pratique, on constate que, dès que le nombre de points d’intérêt devient important, l’algorithme du plus proche voisin fournit un chemin qui peut être 50% plus long que le plus court chemin.\n",
    "\n",
    "_Note de votre prof_ : je sais pas d'où sort ce 50% mais c'est assez tarte : on peut facilement trouver des exemples où ce ratio est largement dépassé, vous pouvez en fabriquer vous-même facilement (exercice : obtenir un ratio $2-\\epsilon$ pour tout $\\epsilon$). Il y a en revanche des algorithmes polynomiaux pour approcher TSP dans le cas euclidien comme ici, mais c'est [une autre paire de manches](https://dl.acm.org/doi/10.1145/290179.290180)"
   ]
  },
  {
   "cell_type": "markdown",
   "metadata": {
    "deletable": false,
    "editable": false,
    "run_control": {
     "frozen": true
    }
   },
   "source": [
    "# III. Deuxième approche : algorithme génétique\n",
    "\n",
    "Les algorithmes génétiques s’inspirent de la théorie de l’évolution en simulant l’évolution d’une population. Ils\n",
    "font intervenir cinq traitements.\n",
    "1. **Initialisation** Il s’agit de créer une population d’origine composée de $m$ individus (ici des chemins pour l’exploration à planifier). Généralement la population de départ est produite aléatoirement.\n",
    "\n",
    "2. **Évaluation** Cette étape consiste à attribuer à chaque individu de la population courante une note correspondant à sa capacité à répondre au problème posé. Ici la note sera simplement la longueur du chemin.\n",
    "\n",
    "3. **Sélection** Une fois tous les individus évalués, l’algorithme ne conserve que les « meilleurs » individus. Plusieurs méthodes de sélection sont possibles : choix aléatoire, ceux qui ont obtenu la meilleure note, élimination par tournoi, etc.\n",
    "\n",
    "4. **Croisement** Les individus sélectionnés sont croisés deux à deux pour produire de nouveaux individus et donc une nouvelle population. La fonction de croisement (ou reproduction) dépend de la nature des individus.\n",
    "\n",
    "5. **Mutation** Une proportion d’individus est choisie (généralement aléatoirement) pour subir une mutation, c’est-à-dire une transformation aléatoire. Cette étape permet d’éviter à l’algorithme de rester bloqué sur un optimum local.          \n",
    "\n",
    "En répétant les étapes de sélection, croisement et mutation, l’algorithme fait ainsi évoluer la population, jusqu’à trouver un individu qui réponde au problème initial. Cependant dans les cas pratiques d’utilisation des algorithmes génétiques, il n’est pas possible de savoir simplement si le problème est résolu (le plus court chemin figure-t-il dans ma population ?). On utilise donc des conditions d’arrêt heuristiques basées sur un critère arbitraire.           \n",
    "\n",
    "Le but de cette partie est de construire un algorithme génétique pour rechercher un meilleur chemin d’exploration que celui obtenu par l’algorithme du plus proche voisin.\n",
    "\n",
    "## III.A – Initialisation et évaluation\n",
    "\n",
    "Une population est représentée par une liste d’individus, chaque individu étant représenté par un couple $(\\mathit{longueur}, \\mathit{chemin})$ dans lequel   \n",
    "- $\\mathit{chemin}$ désigne un chemin représenté comme précédemment par une liste d’entiers correspondant aux indices des points d’intérêt dans le tableau des distances produit par la fonction `calculer_distances` ;\n",
    "- $\\mathit{longueur}$ est un ~entier~ *flottant* correspondant à la longueur du chemin, en tenant compte de la position de départ du robot.   \n",
    "\n",
    "Écrire une fonction d’entête `def creer_population(m:int, d:np.ndarray) -> list:` qui crée une population de $m$ individus aléatoires. Cette fonction prend en paramètre le nombre d’individus à engendrer et le tableau des distances entre points d’intérêt (et la position courante du robot) tel que produit par la fonction `calculer_distances`. Elle renvoie une liste d’individus, c’est-à-dire de couples ($longueur$, $chemin$)."
   ]
  },
  {
   "cell_type": "code",
   "execution_count": null,
   "metadata": {},
   "outputs": [],
   "source": [
    "def creer_population(m:int, d:np.ndarray) -> list:\n",
    "    ..."
   ]
  },
  {
   "cell_type": "code",
   "execution_count": null,
   "metadata": {},
   "outputs": [],
   "source": [
    "# Testez votre fonction\n",
    "pop = creer_population(10, calculer_distances(explo_ex))\n",
    "pop"
   ]
  },
  {
   "cell_type": "markdown",
   "metadata": {
    "deletable": false,
    "editable": false,
    "run_control": {
     "frozen": true
    }
   },
   "source": [
    "## III.B – Sélection\n",
    "Écrire une fonction d’entête `def reduire(p:list) -> None:` qui réduit une population de moitié en ne conservant que les individus correspondant aux chemins les plus courts. On rappelle que `p` est une liste de couples $(longueur, chemin)$. \n",
    "La fonction `reduire` ne renvoie pas de résultat mais modifie la liste passée en paramètre."
   ]
  },
  {
   "cell_type": "code",
   "execution_count": null,
   "metadata": {},
   "outputs": [],
   "source": [
    "def reduire(p:list) -> None:\n",
    "    ..."
   ]
  },
  {
   "cell_type": "code",
   "execution_count": null,
   "metadata": {},
   "outputs": [],
   "source": [
    "# Testez votre fonction\n",
    "reduire(pop)\n",
    "pop"
   ]
  },
  {
   "cell_type": "markdown",
   "metadata": {
    "deletable": false,
    "editable": false,
    "run_control": {
     "frozen": true
    }
   },
   "source": [
    "## III.C – Mutation\n",
    "### III.C.1) \n",
    "Écrire une fonction d’entête `def muter_chemin(c:list) -> None:` qui prend en paramètre un chemin et le transforme en inversant aléatoirement deux de ses éléments."
   ]
  },
  {
   "cell_type": "code",
   "execution_count": null,
   "metadata": {},
   "outputs": [],
   "source": [
    "def muter_chemin(c):\n",
    "    ..."
   ]
  },
  {
   "cell_type": "code",
   "execution_count": null,
   "metadata": {},
   "outputs": [],
   "source": [
    "# Testez votre fonction\n",
    "c = [0, 2, 1]\n",
    "muter_chemin(c)\n",
    "c"
   ]
  },
  {
   "cell_type": "markdown",
   "metadata": {
    "deletable": false,
    "editable": false,
    "run_control": {
     "frozen": true
    }
   },
   "source": [
    "### III.C.2) \n",
    "Écrire une fonction d’entête `def muter_population(p:list, proba:float, d:np.ndarray) -> None:` qui prend en paramètre une population dont elle fait muter un certain nombre d’individus. Le paramètre `proba` (compris entre 0 et 1) désigne la probabilité de mutation d’un individu. Le paramètre `d` est la matrice des distances entre points d’intérêt."
   ]
  },
  {
   "cell_type": "code",
   "execution_count": null,
   "metadata": {},
   "outputs": [],
   "source": [
    "def muter_population(p:list, proba:float, d:np.ndarray) -> None:\n",
    "    ..."
   ]
  },
  {
   "cell_type": "code",
   "execution_count": null,
   "metadata": {},
   "outputs": [],
   "source": [
    "# Testez votre fonction (à vous d'écrire le test ici !)\n",
    "...\n",
    "...\n",
    "..."
   ]
  },
  {
   "cell_type": "markdown",
   "metadata": {},
   "source": [
    "## III.D – Croisement\n",
    "### III.D.1) \n",
    "Écrire une fonction d’entête `def croiser(c1:list, c2:list) -> list:` qui crée un nouveau chemin à partir de deux chemins passés en paramètre. Ce nouveau chemin sera produit en prenant la première moitié du premier chemin suivi de la deuxième moitié du deuxième puis en « normalisant » le chemin ainsi obtenu."
   ]
  },
  {
   "cell_type": "code",
   "execution_count": null,
   "metadata": {},
   "outputs": [],
   "source": [
    "def croiser(c1:list, c2:list) -> list:\n",
    "    ..."
   ]
  },
  {
   "cell_type": "code",
   "execution_count": null,
   "metadata": {},
   "outputs": [],
   "source": [
    "# Testez votre fonction (à vous d'écrire le test ici !)\n",
    "...\n",
    "..."
   ]
  },
  {
   "cell_type": "markdown",
   "metadata": {
    "deletable": false,
    "editable": false,
    "run_control": {
     "frozen": true
    }
   },
   "source": [
    "## III.D.2) \n",
    "Écrire une fonction d’entête `def nouvelle_generation(p:list, d:np.ndarray) -> None:` qui fait grossir une population en croisant ses membres pour en doubler l’effectif. Pour cela, la fonction fait se reproduire tous les couples d’individus qui se suivent dans la population `(p[i], p[i+1])` et `(p[m-1], p[0])`\n",
    "de façon à produire $m$ nouveaux individus qui s’ajoutent aux $m$ individus de la population de départ."
   ]
  },
  {
   "cell_type": "code",
   "execution_count": null,
   "metadata": {},
   "outputs": [],
   "source": [
    "def nouvelle_generation(p:list, d:np.ndarray) -> None:\n",
    "    ..."
   ]
  },
  {
   "cell_type": "code",
   "execution_count": null,
   "metadata": {},
   "outputs": [],
   "source": [
    "# Testez votre fonction (à vous d'écrire le test ici !)\n",
    "...\n",
    "..."
   ]
  },
  {
   "cell_type": "markdown",
   "metadata": {
    "deletable": false,
    "editable": false,
    "run_control": {
     "frozen": true
    }
   },
   "source": [
    "## III.E – Algorithme complet\n",
    "### III.E.1) \n",
    "Écrire une fonction d’entête `def algo_genetique(PI:np.ndarray, m:int, proba:float, g:int) -> float, list:` qui prend en paramètre un tableau de points d’intérêts (figure 2), la taille `m` de la population, la probabilité de mutation `proba` et le nombre de générations `g`. Cette fonction implémente un algorithme génétique à l’aide des différentes fonctions écrites jusqu’à présent et renvoie la longueur du plus court chemin d’exploration et le chemin lui-même obtenus au bout de `g` générations."
   ]
  },
  {
   "cell_type": "code",
   "execution_count": null,
   "metadata": {},
   "outputs": [],
   "source": [
    "def algo_genetique(PI:np.ndarray, m:int, proba:float, g:int) -> float, list:\n",
    "    ..."
   ]
  },
  {
   "cell_type": "code",
   "execution_count": null,
   "metadata": {},
   "outputs": [],
   "source": [
    "# Testez votre fonction (à vous d'écrire le test ici !)\n",
    "...\n",
    "..."
   ]
  },
  {
   "cell_type": "markdown",
   "metadata": {
    "deletable": false,
    "editable": false,
    "run_control": {
     "frozen": true
    }
   },
   "source": [
    "### III.E.2) \n",
    "Est-il possible avec l’implémentation réalisée, qu’une itération de l’algorithme dégrade le résultat, c'est-à-dire que le meilleur chemin obtenu à la génération $n + 1$ soit plus long que celui de la génération $n$ ?\n",
    "\n",
    "Dans l’affirmative, comment modifier le programme pour que cette situation ne puisse plus arriver ?"
   ]
  },
  {
   "cell_type": "markdown",
   "metadata": {},
   "source": []
  },
  {
   "cell_type": "markdown",
   "metadata": {
    "deletable": false,
    "editable": false,
    "run_control": {
     "frozen": true
    }
   },
   "source": [
    "### III.E.3) \n",
    "Quelles autres conditions d’arrêt peut-on imaginer ? Établir un comparatif présentant les avantages\n",
    "et inconvénients de chaque condition d’arrêt envisagée."
   ]
  },
  {
   "cell_type": "markdown",
   "metadata": {},
   "source": []
  },
  {
   "cell_type": "markdown",
   "metadata": {
    "deletable": false,
    "editable": false,
    "run_control": {
     "frozen": true
    }
   },
   "source": [
    "# Opérations et fonctions Python disponibles\n",
    "\n",
    "## Fonctions\n",
    "\n",
    "  - `range(n)` renvoie la séquence des `n` premiers entiers ($0 \\to n-1$) \n",
    "  - `list(range(n))` renvoie une liste contenant les `n` premiers entiers dans l'ordre croissant : `list(range(5))` $\\to$ `[0, 1, 2, 3, 4]` \n",
    "  - `random.randrange(a, b)` renvoie un entier aléatoire compris entre `a` et `b-1` inclus (`a` et `b` entiers) \n",
    "  - `random.random()` renvoie un nombre flottant tiré aléatoirement dans $\\left[0,1\\right[$ suivant une distribution uniforme \n",
    "  - `random.shuffle(u)` permute aléatoirement les éléments de la liste `u` (modifie `u`) \n",
    "  - `random.sample(u, n)` renvoie une liste de `n` éléments distincts de la liste `u` choisis aléatoirement, si `n > len(u)`, déclenche l'exception `ValueError` \n",
    "  - `math.sqrt(x)` calcule la racine carrée du nombre $x$ \n",
    "  - `math.ceil(x)` renvoie le plus petit entier supérieur ou égal à `x` \n",
    "  - `math.floor(x)` renvoie le plus grand entier inférieur ou égal à `x` \n",
    "  - `sorted(u)` renvoie une nouvelle liste contenant les éléments de la liste `u` triés dans l'ordre \\quotation{naturel} de ses éléments (si les éléments de `u` sont des listes ou des tuples, l'ordre utilisé est l'ordre lexicographique)\n",
    "\n",
    "## Opérations sur les listes\n",
    "\n",
    "  - `len(u)` donne le nombre d'éléments de la liste `u` : `len([1, 2, 3])` $\\to$ 3 ; `len([[1,2], [3,4]])` $\\to$ 2 \n",
    "  - `u + v` construit une liste constituée de la concaténation des listes `u` et `v` : `[1, 2] + [3, 4, 5]` $\\to$ `[1, 2, 3, 4, 5]` \n",
    "  - `n * u` construit une liste constitué de la liste `u` concaténée `n` fois avec elle-même : `3 * [1, 2]` $\\to$ `[1, 2, 1, 2, 1, 2]` \n",
    "  - `e in u` et `e not in u` déterminent si l'objet `e` figure dans la liste `u`, cette opération a une complexité temporelle en $O(n)$ si $n$ est la taille de `u`. `2 in [1, 2, 3]` $\\to$ `True` ; `2 not in [1, 2, 3]` $\\to$ `False` \n",
    "  - `u.append(e)` ajoute l'élément `e` à la fin de la liste `u` (similaire à `u = u + [e]`) \n",
    "  - `del u[i]` supprime de la liste `u` son élément d'indice `i` \n",
    "  - `del u[i:j]` supprime de la liste `u` tous ses éléments dont les indices sont compris dans l'intervalle $[`i`,`j`\\mathclose[$ \n",
    "  - `u.remove(e)` supprime de la liste `u` le premier élément qui a pour valeur `e`, déclenche l'exception `ValueError` si `e` ne figure pas dans `u`, cette opération a une complexité temporelle en $O(n)$, où $n$ est la taille de `u`. \n",
    "  - `u.insert(i, e)` insère l'élément `e` à la position d'indice `i` dans la liste `u` (en décalant les éléments suivants) ; si `i >= len(u)`, `e` est ajouté en fin de liste \n",
    "  - `u[i], u[j] = u[j], u[i]` permute les éléments d'indice `i` et `j` dans la liste `u` \n",
    "  - `u.sort()` trie la liste `u` en place, dans l'ordre \\quotation{naturel} de ses éléments (si les éléments de `u` sont des listes ou des tuples, l'ordre utilisé est l'ordre lexicographique)\n",
    "\n",
    "## Opérations sur les tableaux (`np.ndarray`)\n",
    "  - `np.array(u)` crée un nouveau tableau contenant les éléments de la liste `u`. La taille et le type des éléments de ce tableau sont déduits du contenu de `u`\n",
    "  - `np.empty(n, dtype)`, `np.empty((n, m), dtype)` crée respectivement un vecteur à `n` éléments ou une matrice à `n` lignes et `m` colonnes dont les éléments, de valeurs indéterminées, sont de type `dtype` qui peut être un type standard (`bool`, `int`, `float`, …) ou un type spécifique numpy (`np.int16`, `np.float32`, …). Si le paramètres `dtype` n'est pas précisé, il prend la valeur `float` par défaut \n",
    "  - `np.zeros(n, dtype)`, `np.zeros((n, m), dtype)` fonctionne comme `np.empty` en initialisant chaque élément à la valeur zéro pour les types numériques ou `False` pour les types booléens \n",
    "  - `a.ndim` nombre de dimensions du tableau `a` (1 pour un vecteur, 2 pour une matrice, etc.) \n",
    "  - `a.shape` tuple donnant la taille du tableau `a` pour chacune de ses dimensions \n",
    "  - `len(a)` taille du tableau `a` dans sa première dimension (nombre d'éléments d'un vecteur, nombre de lignes d'une matrice, etc.) équivalent à `a.shape[0]` \n",
    "  - `a.size` nombre total d'éléments du tableau `a` \n",
    "  - `a.flat` itérateur sur tous les éléments du tableau `a` \n",
    "  - `a.min()`, `a.max()` renvoie la valeur du plus petit (respectivement plus grand) élément du tableau `a` ; ces opérations ont une complexité temporelle en $O(`a.size`)$ \n",
    "  - `b in a` détermine si `b` est un élément du tableau `a` ; si `b` est un scalaire, vérifie si `b` est un élément de `a` ; si `b` est un vecteur ou une liste et `a` une matrice, détermine si `b` est une ligne de `a` \n",
    "  - `np.concatenate((a1, a2))` construit un nouveau tableau en concaténant deux tableaux ; `a1` et `a2` doivent avoir le même nombre de dimensions et la même taille à l'exception de leur taille dans la première dimension (deux matrices doivent avoir le même nombre de colonnes pour pouvoir être concaténées)\n"
   ]
  }
 ],
 "metadata": {
  "kernelspec": {
   "display_name": "Python 3",
   "language": "python",
   "name": "python3"
  },
  "language_info": {
   "codemirror_mode": {
    "name": "ipython",
    "version": 3
   },
   "file_extension": ".py",
   "mimetype": "text/x-python",
   "name": "python",
   "nbconvert_exporter": "python",
   "pygments_lexer": "ipython3",
   "version": "3.6.9"
  }
 },
 "nbformat": 4,
 "nbformat_minor": 4
}
